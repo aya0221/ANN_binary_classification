{
 "cells": [
  {
   "cell_type": "markdown",
   "metadata": {
    "colab_type": "text",
    "id": "lP6JLo1tGNBg"
   },
   "source": [
    "# Simple ANN for predicting if customer will close the bank account"
   ]
  },
  {
   "cell_type": "markdown",
   "metadata": {
    "colab_type": "text",
    "id": "gWZyYmS_UE_L"
   },
   "source": [
    "### Importing the libraries"
   ]
  },
  {
   "cell_type": "code",
   "execution_count": 1,
   "metadata": {
    "colab": {},
    "colab_type": "code",
    "id": "MxkJoQBkUIHC"
   },
   "outputs": [],
   "source": [
    "import numpy as np\n",
    "import pandas as pd\n",
    "import tensorflow as tf"
   ]
  },
  {
   "cell_type": "markdown",
   "metadata": {
    "colab_type": "text",
    "id": "1E0Q3aoKUCRX"
   },
   "source": [
    "## Step 1 - Data Preprocessing"
   ]
  },
  {
   "cell_type": "markdown",
   "metadata": {
    "colab_type": "text",
    "id": "cKWAkFVGUU0Z"
   },
   "source": [
    "### loading the dataset and separating features (X) and label (y)"
   ]
  },
  {
   "cell_type": "code",
   "execution_count": 3,
   "metadata": {
    "colab": {},
    "colab_type": "code",
    "id": "MXUkhkMfU4wq"
   },
   "outputs": [],
   "source": [
    "dataset = pd.read_csv('Churn_Modelling.csv')\n",
    "X = dataset.iloc[:, 3:-1].values\n",
    "y = dataset.iloc[:, -1].values"
   ]
  },
  {
   "cell_type": "code",
   "execution_count": null,
   "metadata": {},
   "outputs": [],
   "source": [
    "print(dataset)"
   ]
  },
  {
   "cell_type": "code",
   "execution_count": 4,
   "metadata": {
    "colab": {
     "base_uri": "https://localhost:8080/",
     "height": 137
    },
    "colab_type": "code",
    "executionInfo": {
     "elapsed": 2396,
     "status": "ok",
     "timestamp": 1590257449961,
     "user": {
      "displayName": "Hadelin de Ponteves",
      "photoUrl": "https://lh3.googleusercontent.com/a-/AOh14GhEuXdT7eQweUmRPW8_laJuPggSK6hfvpl5a6WBaA=s64",
      "userId": "15047218817161520419"
     },
     "user_tz": -240
    },
    "id": "VYP9cQTWbzuI",
    "outputId": "797e7a64-9bac-436a-8c9c-94437e5e7587"
   },
   "outputs": [
    {
     "name": "stdout",
     "output_type": "stream",
     "text": [
      "[[619 'France' 'Female' ... 1 1 101348.88]\n",
      " [608 'Spain' 'Female' ... 0 1 112542.58]\n",
      " [502 'France' 'Female' ... 1 0 113931.57]\n",
      " ...\n",
      " [709 'France' 'Female' ... 0 1 42085.58]\n",
      " [772 'Germany' 'Male' ... 1 0 92888.52]\n",
      " [792 'France' 'Female' ... 1 0 38190.78]]\n"
     ]
    }
   ],
   "source": [
    "print(X)"
   ]
  },
  {
   "cell_type": "code",
   "execution_count": 5,
   "metadata": {
    "colab": {
     "base_uri": "https://localhost:8080/",
     "height": 34
    },
    "colab_type": "code",
    "executionInfo": {
     "elapsed": 2391,
     "status": "ok",
     "timestamp": 1590257449961,
     "user": {
      "displayName": "Hadelin de Ponteves",
      "photoUrl": "https://lh3.googleusercontent.com/a-/AOh14GhEuXdT7eQweUmRPW8_laJuPggSK6hfvpl5a6WBaA=s64",
      "userId": "15047218817161520419"
     },
     "user_tz": -240
    },
    "id": "38vKGE6Nb2RR",
    "outputId": "a815e42a-e0dd-4cb5-ab97-b17ead98fbc3"
   },
   "outputs": [
    {
     "name": "stdout",
     "output_type": "stream",
     "text": [
      "[1 0 1 ... 1 1 0]\n"
     ]
    }
   ],
   "source": [
    "print(y)"
   ]
  },
  {
   "cell_type": "markdown",
   "metadata": {
    "colab_type": "text",
    "id": "N6bQ0UgSU-NJ"
   },
   "source": [
    "### Encoding categorical data"
   ]
  },
  {
   "cell_type": "markdown",
   "metadata": {
    "colab_type": "text",
    "id": "le5MJreAbW52"
   },
   "source": [
    "Label Encoding the \"Gender\" column"
   ]
  },
  {
   "cell_type": "code",
   "execution_count": 6,
   "metadata": {
    "colab": {},
    "colab_type": "code",
    "id": "PxVKWXxLbczC"
   },
   "outputs": [],
   "source": [
    "from sklearn.preprocessing import LabelEncoder\n",
    "le = LabelEncoder()\n",
    "X[:, 2] = le.fit_transform(X[:, 2])"
   ]
  },
  {
   "cell_type": "code",
   "execution_count": 7,
   "metadata": {
    "colab": {
     "base_uri": "https://localhost:8080/",
     "height": 137
    },
    "colab_type": "code",
    "executionInfo": {
     "elapsed": 2719,
     "status": "ok",
     "timestamp": 1590257450295,
     "user": {
      "displayName": "Hadelin de Ponteves",
      "photoUrl": "https://lh3.googleusercontent.com/a-/AOh14GhEuXdT7eQweUmRPW8_laJuPggSK6hfvpl5a6WBaA=s64",
      "userId": "15047218817161520419"
     },
     "user_tz": -240
    },
    "id": "-M1KboxFb6OO",
    "outputId": "e2b8c7e8-0cbc-4cdf-f4eb-7f0853a00b88"
   },
   "outputs": [
    {
     "name": "stdout",
     "output_type": "stream",
     "text": [
      "[[619 'France' 0 ... 1 1 101348.88]\n",
      " [608 'Spain' 0 ... 0 1 112542.58]\n",
      " [502 'France' 0 ... 1 0 113931.57]\n",
      " ...\n",
      " [709 'France' 0 ... 0 1 42085.58]\n",
      " [772 'Germany' 1 ... 1 0 92888.52]\n",
      " [792 'France' 0 ... 1 0 38190.78]]\n"
     ]
    }
   ],
   "source": [
    "print(X)"
   ]
  },
  {
   "cell_type": "markdown",
   "metadata": {
    "colab_type": "text",
    "id": "CUxGZezpbMcb"
   },
   "source": [
    "One Hot Encoding the \"Geography\" column"
   ]
  },
  {
   "cell_type": "code",
   "execution_count": 8,
   "metadata": {
    "colab": {},
    "colab_type": "code",
    "id": "AMXC8-KMVirw"
   },
   "outputs": [],
   "source": [
    "from sklearn.compose import ColumnTransformer\n",
    "from sklearn.preprocessing import OneHotEncoder\n",
    "ct = ColumnTransformer(transformers=[('encoder', OneHotEncoder(), [1])], remainder='passthrough')\n",
    "X = np.array(ct.fit_transform(X))"
   ]
  },
  {
   "cell_type": "code",
   "execution_count": 9,
   "metadata": {
    "colab": {
     "base_uri": "https://localhost:8080/",
     "height": 137
    },
    "colab_type": "code",
    "executionInfo": {
     "elapsed": 2713,
     "status": "ok",
     "timestamp": 1590257450296,
     "user": {
      "displayName": "Hadelin de Ponteves",
      "photoUrl": "https://lh3.googleusercontent.com/a-/AOh14GhEuXdT7eQweUmRPW8_laJuPggSK6hfvpl5a6WBaA=s64",
      "userId": "15047218817161520419"
     },
     "user_tz": -240
    },
    "id": "ZcxwEon-b8nV",
    "outputId": "23a98af4-5e33-4b26-c27b-f06e3c5d2baf"
   },
   "outputs": [
    {
     "name": "stdout",
     "output_type": "stream",
     "text": [
      "[[1.0 0.0 0.0 ... 1 1 101348.88]\n",
      " [0.0 0.0 1.0 ... 0 1 112542.58]\n",
      " [1.0 0.0 0.0 ... 1 0 113931.57]\n",
      " ...\n",
      " [1.0 0.0 0.0 ... 0 1 42085.58]\n",
      " [0.0 1.0 0.0 ... 1 0 92888.52]\n",
      " [1.0 0.0 0.0 ... 1 0 38190.78]]\n"
     ]
    }
   ],
   "source": [
    "print(X)"
   ]
  },
  {
   "cell_type": "markdown",
   "metadata": {
    "colab_type": "text",
    "id": "vHol938cW8zd"
   },
   "source": [
    "### Splitting the dataset into Training set and Test set"
   ]
  },
  {
   "cell_type": "code",
   "execution_count": 10,
   "metadata": {
    "colab": {},
    "colab_type": "code",
    "id": "Z-TDt0Y_XEfc"
   },
   "outputs": [],
   "source": [
    "from sklearn.model_selection import train_test_split\n",
    "X_train, X_test, y_train, y_test = train_test_split(X, y, test_size = 0.2, random_state = 0)"
   ]
  },
  {
   "cell_type": "markdown",
   "metadata": {
    "colab_type": "text",
    "id": "RE_FcHyfV3TQ"
   },
   "source": [
    "### Feature Scaling (using inbuilt standard technique)"
   ]
  },
  {
   "cell_type": "code",
   "execution_count": 11,
   "metadata": {
    "colab": {},
    "colab_type": "code",
    "id": "ViCrE00rV8Sk"
   },
   "outputs": [],
   "source": [
    "from sklearn.preprocessing import StandardScaler\n",
    "sc = StandardScaler()\n",
    "X_train = sc.fit_transform(X_train)\n",
    "X_test = sc.transform(X_test)"
   ]
  },
  {
   "cell_type": "markdown",
   "metadata": {
    "colab_type": "text",
    "id": "-zfEzkRVXIwF"
   },
   "source": [
    "## Step 2 - Building the ANN"
   ]
  },
  {
   "cell_type": "markdown",
   "metadata": {
    "colab_type": "text",
    "id": "KvdeScabXtlB"
   },
   "source": [
    "### Initializing the ANN"
   ]
  },
  {
   "cell_type": "code",
   "execution_count": 12,
   "metadata": {
    "colab": {},
    "colab_type": "code",
    "id": "3dtrScHxXQox"
   },
   "outputs": [],
   "source": [
    "ann = tf.keras.models.Sequential()"
   ]
  },
  {
   "cell_type": "markdown",
   "metadata": {
    "colab_type": "text",
    "id": "rP6urV6SX7kS"
   },
   "source": [
    "### Adding the input layer and the first hidden layer"
   ]
  },
  {
   "cell_type": "code",
   "execution_count": 13,
   "metadata": {
    "colab": {},
    "colab_type": "code",
    "id": "bppGycBXYCQr"
   },
   "outputs": [],
   "source": [
    "ann.add(tf.keras.layers.Dense(units=6, activation='relu'))"
   ]
  },
  {
   "cell_type": "markdown",
   "metadata": {
    "colab_type": "text",
    "id": "BELWAc_8YJze"
   },
   "source": [
    "### Adding the second hidden layer"
   ]
  },
  {
   "cell_type": "code",
   "execution_count": 14,
   "metadata": {
    "colab": {},
    "colab_type": "code",
    "id": "JneR0u0sYRTd"
   },
   "outputs": [],
   "source": [
    "ann.add(tf.keras.layers.Dense(units=6, activation='relu'))"
   ]
  },
  {
   "cell_type": "markdown",
   "metadata": {
    "colab_type": "text",
    "id": "OyNEe6RXYcU4"
   },
   "source": [
    "### Adding the output layer"
   ]
  },
  {
   "cell_type": "code",
   "execution_count": 15,
   "metadata": {
    "colab": {},
    "colab_type": "code",
    "id": "Cn3x41RBYfvY"
   },
   "outputs": [],
   "source": [
    "ann.add(tf.keras.layers.Dense(units=1, activation='sigmoid'))"
   ]
  },
  {
   "cell_type": "markdown",
   "metadata": {
    "colab_type": "text",
    "id": "JT4u2S1_Y4WG"
   },
   "source": [
    "## Step 3 - Training the ANN"
   ]
  },
  {
   "cell_type": "markdown",
   "metadata": {
    "colab_type": "text",
    "id": "8GWlJChhY_ZI"
   },
   "source": [
    "### Compiling the ANN (using binary_crossentropy loss function as the goal is binary classification)"
   ]
  },
  {
   "cell_type": "code",
   "execution_count": 16,
   "metadata": {
    "colab": {},
    "colab_type": "code",
    "id": "fG3RrwDXZEaS"
   },
   "outputs": [],
   "source": [
    "ann.compile(optimizer = 'adam', loss = 'binary_crossentropy', metrics = ['accuracy'])"
   ]
  },
  {
   "cell_type": "markdown",
   "metadata": {
    "colab_type": "text",
    "id": "0QR_G5u7ZLSM"
   },
   "source": [
    "### Training the ANN on the Training set"
   ]
  },
  {
   "cell_type": "code",
   "execution_count": 17,
   "metadata": {
    "colab": {
     "base_uri": "https://localhost:8080/",
     "height": 1000
    },
    "colab_type": "code",
    "executionInfo": {
     "elapsed": 33685,
     "status": "ok",
     "timestamp": 1590257481284,
     "user": {
      "displayName": "Hadelin de Ponteves",
      "photoUrl": "https://lh3.googleusercontent.com/a-/AOh14GhEuXdT7eQweUmRPW8_laJuPggSK6hfvpl5a6WBaA=s64",
      "userId": "15047218817161520419"
     },
     "user_tz": -240
    },
    "id": "nHZ-LKv_ZRb3",
    "outputId": "718cc4b0-b5aa-40f0-9b20-d3d31730a531"
   },
   "outputs": [
    {
     "name": "stdout",
     "output_type": "stream",
     "text": [
      "Epoch 1/100\n",
      "250/250 [==============================] - 0s 437us/step - loss: 0.5975 - accuracy: 0.6435\n",
      "Epoch 2/100\n",
      "250/250 [==============================] - 0s 419us/step - loss: 0.4566 - accuracy: 0.7951\n",
      "Epoch 3/100\n",
      "250/250 [==============================] - 0s 437us/step - loss: 0.4368 - accuracy: 0.7989\n",
      "Epoch 4/100\n",
      "250/250 [==============================] - 0s 558us/step - loss: 0.4287 - accuracy: 0.7993\n",
      "Epoch 5/100\n",
      "250/250 [==============================] - 0s 462us/step - loss: 0.4218 - accuracy: 0.8035\n",
      "Epoch 6/100\n",
      "250/250 [==============================] - 0s 409us/step - loss: 0.4127 - accuracy: 0.8109\n",
      "Epoch 7/100\n",
      "250/250 [==============================] - 0s 701us/step - loss: 0.4002 - accuracy: 0.8219\n",
      "Epoch 8/100\n",
      "250/250 [==============================] - 0s 434us/step - loss: 0.3870 - accuracy: 0.8274\n",
      "Epoch 9/100\n",
      "250/250 [==============================] - 0s 438us/step - loss: 0.3766 - accuracy: 0.8374\n",
      "Epoch 10/100\n",
      "250/250 [==============================] - 0s 440us/step - loss: 0.3701 - accuracy: 0.8432\n",
      "Epoch 11/100\n",
      "250/250 [==============================] - 0s 442us/step - loss: 0.3661 - accuracy: 0.8438\n",
      "Epoch 12/100\n",
      "250/250 [==============================] - 0s 589us/step - loss: 0.3637 - accuracy: 0.8470\n",
      "Epoch 13/100\n",
      "250/250 [==============================] - 0s 460us/step - loss: 0.3619 - accuracy: 0.8489\n",
      "Epoch 14/100\n",
      "250/250 [==============================] - 0s 448us/step - loss: 0.3608 - accuracy: 0.8487\n",
      "Epoch 15/100\n",
      "250/250 [==============================] - 0s 431us/step - loss: 0.3595 - accuracy: 0.8490\n",
      "Epoch 16/100\n",
      "250/250 [==============================] - 0s 433us/step - loss: 0.3590 - accuracy: 0.8500\n",
      "Epoch 17/100\n",
      "250/250 [==============================] - 0s 412us/step - loss: 0.3577 - accuracy: 0.8512\n",
      "Epoch 18/100\n",
      "250/250 [==============================] - 0s 421us/step - loss: 0.3569 - accuracy: 0.8524\n",
      "Epoch 19/100\n",
      "250/250 [==============================] - 0s 437us/step - loss: 0.3562 - accuracy: 0.8522\n",
      "Epoch 20/100\n",
      "250/250 [==============================] - 0s 426us/step - loss: 0.3553 - accuracy: 0.8530\n",
      "Epoch 21/100\n",
      "250/250 [==============================] - 0s 549us/step - loss: 0.3544 - accuracy: 0.8531\n",
      "Epoch 22/100\n",
      "250/250 [==============================] - 0s 455us/step - loss: 0.3537 - accuracy: 0.8533\n",
      "Epoch 23/100\n",
      "250/250 [==============================] - 0s 424us/step - loss: 0.3530 - accuracy: 0.8553\n",
      "Epoch 24/100\n",
      "250/250 [==============================] - 0s 424us/step - loss: 0.3521 - accuracy: 0.8554\n",
      "Epoch 25/100\n",
      "250/250 [==============================] - 0s 408us/step - loss: 0.3512 - accuracy: 0.8551\n",
      "Epoch 26/100\n",
      "250/250 [==============================] - 0s 420us/step - loss: 0.3508 - accuracy: 0.8554\n",
      "Epoch 27/100\n",
      "250/250 [==============================] - 0s 431us/step - loss: 0.3500 - accuracy: 0.8560\n",
      "Epoch 28/100\n",
      "250/250 [==============================] - 0s 419us/step - loss: 0.3492 - accuracy: 0.8569\n",
      "Epoch 29/100\n",
      "250/250 [==============================] - 0s 436us/step - loss: 0.3490 - accuracy: 0.8559\n",
      "Epoch 30/100\n",
      "250/250 [==============================] - 0s 462us/step - loss: 0.3486 - accuracy: 0.8566\n",
      "Epoch 31/100\n",
      "250/250 [==============================] - 0s 433us/step - loss: 0.3479 - accuracy: 0.8559\n",
      "Epoch 32/100\n",
      "250/250 [==============================] - 0s 449us/step - loss: 0.3477 - accuracy: 0.8569\n",
      "Epoch 33/100\n",
      "250/250 [==============================] - 0s 457us/step - loss: 0.3474 - accuracy: 0.8587\n",
      "Epoch 34/100\n",
      "250/250 [==============================] - 0s 435us/step - loss: 0.3471 - accuracy: 0.8574\n",
      "Epoch 35/100\n",
      "250/250 [==============================] - 0s 418us/step - loss: 0.3467 - accuracy: 0.8579\n",
      "Epoch 36/100\n",
      "250/250 [==============================] - 0s 434us/step - loss: 0.3462 - accuracy: 0.8579\n",
      "Epoch 37/100\n",
      "250/250 [==============================] - 0s 431us/step - loss: 0.3463 - accuracy: 0.8585\n",
      "Epoch 38/100\n",
      "250/250 [==============================] - 0s 424us/step - loss: 0.3457 - accuracy: 0.8580\n",
      "Epoch 39/100\n",
      "250/250 [==============================] - 0s 545us/step - loss: 0.3453 - accuracy: 0.8579\n",
      "Epoch 40/100\n",
      "250/250 [==============================] - 0s 454us/step - loss: 0.3454 - accuracy: 0.8576\n",
      "Epoch 41/100\n",
      "250/250 [==============================] - 0s 454us/step - loss: 0.3449 - accuracy: 0.8587\n",
      "Epoch 42/100\n",
      "250/250 [==============================] - 0s 472us/step - loss: 0.3450 - accuracy: 0.8594\n",
      "Epoch 43/100\n",
      "250/250 [==============================] - 0s 464us/step - loss: 0.3447 - accuracy: 0.8586\n",
      "Epoch 44/100\n",
      "250/250 [==============================] - 0s 443us/step - loss: 0.3447 - accuracy: 0.8576\n",
      "Epoch 45/100\n",
      "250/250 [==============================] - 0s 436us/step - loss: 0.3449 - accuracy: 0.8587\n",
      "Epoch 46/100\n",
      "250/250 [==============================] - 0s 431us/step - loss: 0.3445 - accuracy: 0.8589\n",
      "Epoch 47/100\n",
      "250/250 [==============================] - 0s 547us/step - loss: 0.3441 - accuracy: 0.8594\n",
      "Epoch 48/100\n",
      "250/250 [==============================] - 0s 442us/step - loss: 0.3443 - accuracy: 0.8570\n",
      "Epoch 49/100\n",
      "250/250 [==============================] - 0s 423us/step - loss: 0.3442 - accuracy: 0.8576\n",
      "Epoch 50/100\n",
      "250/250 [==============================] - 0s 436us/step - loss: 0.3438 - accuracy: 0.8585\n",
      "Epoch 51/100\n",
      "250/250 [==============================] - 0s 419us/step - loss: 0.3437 - accuracy: 0.8605\n",
      "Epoch 52/100\n",
      "250/250 [==============================] - 0s 413us/step - loss: 0.3436 - accuracy: 0.8595\n",
      "Epoch 53/100\n",
      "250/250 [==============================] - 0s 461us/step - loss: 0.3435 - accuracy: 0.8608\n",
      "Epoch 54/100\n",
      "250/250 [==============================] - 0s 496us/step - loss: 0.3432 - accuracy: 0.8597\n",
      "Epoch 55/100\n",
      "250/250 [==============================] - 0s 477us/step - loss: 0.3434 - accuracy: 0.8596\n",
      "Epoch 56/100\n",
      "250/250 [==============================] - 0s 458us/step - loss: 0.3433 - accuracy: 0.8599\n",
      "Epoch 57/100\n",
      "250/250 [==============================] - 0s 481us/step - loss: 0.3427 - accuracy: 0.8605\n",
      "Epoch 58/100\n",
      "250/250 [==============================] - 0s 436us/step - loss: 0.3429 - accuracy: 0.8595\n",
      "Epoch 59/100\n",
      "250/250 [==============================] - 0s 422us/step - loss: 0.3432 - accuracy: 0.8594\n",
      "Epoch 60/100\n",
      "250/250 [==============================] - 0s 422us/step - loss: 0.3427 - accuracy: 0.8608\n",
      "Epoch 61/100\n",
      "250/250 [==============================] - 0s 419us/step - loss: 0.3425 - accuracy: 0.8601\n",
      "Epoch 62/100\n",
      "250/250 [==============================] - 0s 483us/step - loss: 0.3423 - accuracy: 0.8594\n",
      "Epoch 63/100\n",
      "250/250 [==============================] - 0s 435us/step - loss: 0.3425 - accuracy: 0.8605\n",
      "Epoch 64/100\n",
      "250/250 [==============================] - 0s 443us/step - loss: 0.3421 - accuracy: 0.8601\n",
      "Epoch 65/100\n",
      "250/250 [==============================] - 0s 444us/step - loss: 0.3423 - accuracy: 0.8604\n",
      "Epoch 66/100\n",
      "250/250 [==============================] - 0s 431us/step - loss: 0.3419 - accuracy: 0.8590\n",
      "Epoch 67/100\n",
      "250/250 [==============================] - 0s 412us/step - loss: 0.3419 - accuracy: 0.8610\n",
      "Epoch 68/100\n",
      "250/250 [==============================] - 0s 422us/step - loss: 0.3417 - accuracy: 0.8611\n",
      "Epoch 69/100\n",
      "250/250 [==============================] - 0s 424us/step - loss: 0.3415 - accuracy: 0.8599\n",
      "Epoch 70/100\n",
      "250/250 [==============================] - 0s 428us/step - loss: 0.3411 - accuracy: 0.8610\n",
      "Epoch 71/100\n",
      "250/250 [==============================] - 0s 541us/step - loss: 0.3410 - accuracy: 0.8609\n",
      "Epoch 72/100\n",
      "250/250 [==============================] - 0s 454us/step - loss: 0.3406 - accuracy: 0.8604\n",
      "Epoch 73/100\n",
      "250/250 [==============================] - 0s 414us/step - loss: 0.3406 - accuracy: 0.8608\n",
      "Epoch 74/100\n",
      "250/250 [==============================] - 0s 400us/step - loss: 0.3402 - accuracy: 0.8602\n",
      "Epoch 75/100\n",
      "250/250 [==============================] - 0s 420us/step - loss: 0.3401 - accuracy: 0.8606\n",
      "Epoch 76/100\n",
      "250/250 [==============================] - 0s 429us/step - loss: 0.3402 - accuracy: 0.8615\n",
      "Epoch 77/100\n",
      "250/250 [==============================] - 0s 435us/step - loss: 0.3405 - accuracy: 0.8609\n",
      "Epoch 78/100\n",
      "250/250 [==============================] - 0s 428us/step - loss: 0.3396 - accuracy: 0.8602\n",
      "Epoch 79/100\n"
     ]
    },
    {
     "name": "stdout",
     "output_type": "stream",
     "text": [
      "250/250 [==============================] - 0s 421us/step - loss: 0.3393 - accuracy: 0.8611\n",
      "Epoch 80/100\n",
      "250/250 [==============================] - 0s 516us/step - loss: 0.3391 - accuracy: 0.8601\n",
      "Epoch 81/100\n",
      "250/250 [==============================] - 0s 432us/step - loss: 0.3395 - accuracy: 0.8604\n",
      "Epoch 82/100\n",
      "250/250 [==============================] - 0s 398us/step - loss: 0.3389 - accuracy: 0.8615\n",
      "Epoch 83/100\n",
      "250/250 [==============================] - 0s 416us/step - loss: 0.3386 - accuracy: 0.8614\n",
      "Epoch 84/100\n",
      "250/250 [==============================] - 0s 411us/step - loss: 0.3386 - accuracy: 0.8622\n",
      "Epoch 85/100\n",
      "250/250 [==============================] - 0s 400us/step - loss: 0.3383 - accuracy: 0.8620\n",
      "Epoch 86/100\n",
      "250/250 [==============================] - 0s 408us/step - loss: 0.3380 - accuracy: 0.8621\n",
      "Epoch 87/100\n",
      "250/250 [==============================] - 0s 421us/step - loss: 0.3379 - accuracy: 0.8619\n",
      "Epoch 88/100\n",
      "250/250 [==============================] - 0s 429us/step - loss: 0.3376 - accuracy: 0.8618\n",
      "Epoch 89/100\n",
      "250/250 [==============================] - 0s 432us/step - loss: 0.3375 - accuracy: 0.8620\n",
      "Epoch 90/100\n",
      "250/250 [==============================] - 0s 423us/step - loss: 0.3379 - accuracy: 0.8624\n",
      "Epoch 91/100\n",
      "250/250 [==============================] - 0s 419us/step - loss: 0.3373 - accuracy: 0.8620\n",
      "Epoch 92/100\n",
      "250/250 [==============================] - 0s 413us/step - loss: 0.3373 - accuracy: 0.8610\n",
      "Epoch 93/100\n",
      "250/250 [==============================] - 0s 456us/step - loss: 0.3369 - accuracy: 0.8627\n",
      "Epoch 94/100\n",
      "250/250 [==============================] - 0s 474us/step - loss: 0.3366 - accuracy: 0.8631\n",
      "Epoch 95/100\n",
      "250/250 [==============================] - 0s 431us/step - loss: 0.3371 - accuracy: 0.8622\n",
      "Epoch 96/100\n",
      "250/250 [==============================] - 0s 414us/step - loss: 0.3365 - accuracy: 0.8637\n",
      "Epoch 97/100\n",
      "250/250 [==============================] - 0s 426us/step - loss: 0.3366 - accuracy: 0.8625\n",
      "Epoch 98/100\n",
      "250/250 [==============================] - 0s 489us/step - loss: 0.3366 - accuracy: 0.8622\n",
      "Epoch 99/100\n",
      "250/250 [==============================] - 0s 432us/step - loss: 0.3363 - accuracy: 0.8631\n",
      "Epoch 100/100\n",
      "250/250 [==============================] - 0s 474us/step - loss: 0.3359 - accuracy: 0.8629\n"
     ]
    },
    {
     "data": {
      "text/plain": [
       "<tensorflow.python.keras.callbacks.History at 0x7fbac061eca0>"
      ]
     },
     "execution_count": 17,
     "metadata": {},
     "output_type": "execute_result"
    }
   ],
   "source": [
    "ann.fit(X_train, y_train, batch_size = 32, epochs = 100)"
   ]
  },
  {
   "cell_type": "markdown",
   "metadata": {
    "colab_type": "text",
    "id": "tJj5k2MxZga3"
   },
   "source": [
    "## Step 4 - Evaluating the model"
   ]
  },
  {
   "cell_type": "markdown",
   "metadata": {
    "colab_type": "text",
    "id": "u7yx47jPZt11"
   },
   "source": [
    "### Predicting the Test set results"
   ]
  },
  {
   "cell_type": "code",
   "execution_count": 19,
   "metadata": {
    "colab": {
     "base_uri": "https://localhost:8080/",
     "height": 137
    },
    "colab_type": "code",
    "executionInfo": {
     "elapsed": 33987,
     "status": "ok",
     "timestamp": 1590257481595,
     "user": {
      "displayName": "Hadelin de Ponteves",
      "photoUrl": "https://lh3.googleusercontent.com/a-/AOh14GhEuXdT7eQweUmRPW8_laJuPggSK6hfvpl5a6WBaA=s64",
      "userId": "15047218817161520419"
     },
     "user_tz": -240
    },
    "id": "nIyEeQdRZwgs",
    "outputId": "82330ba8-9bdc-4fd1-d3cf-b6d78ee7c2a3"
   },
   "outputs": [
    {
     "name": "stdout",
     "output_type": "stream",
     "text": [
      "[[0 0]\n",
      " [0 1]\n",
      " [0 0]\n",
      " ...\n",
      " [0 0]\n",
      " [0 0]\n",
      " [0 0]]\n"
     ]
    }
   ],
   "source": [
    "y_pred = ann.predict(X_test)\n",
    "y_pred = (y_pred > 0.5)\n",
    "print(np.concatenate((y_pred.reshape(len(y_pred),1), y_test.reshape(len(y_test),1)),1))"
   ]
  },
  {
   "cell_type": "markdown",
   "metadata": {
    "colab_type": "text",
    "id": "o0oyfLWoaEGw"
   },
   "source": [
    "### Making the Confusion Matrix"
   ]
  },
  {
   "cell_type": "code",
   "execution_count": 20,
   "metadata": {
    "colab": {
     "base_uri": "https://localhost:8080/",
     "height": 68
    },
    "colab_type": "code",
    "executionInfo": {
     "elapsed": 33981,
     "status": "ok",
     "timestamp": 1590257481595,
     "user": {
      "displayName": "Hadelin de Ponteves",
      "photoUrl": "https://lh3.googleusercontent.com/a-/AOh14GhEuXdT7eQweUmRPW8_laJuPggSK6hfvpl5a6WBaA=s64",
      "userId": "15047218817161520419"
     },
     "user_tz": -240
    },
    "id": "ci6K_r6LaF6P",
    "outputId": "4d854e9e-22d5-432f-f6e5-a102fe3ae0bd"
   },
   "outputs": [
    {
     "name": "stdout",
     "output_type": "stream",
     "text": [
      "[[1518   77]\n",
      " [ 202  203]]\n"
     ]
    },
    {
     "data": {
      "text/plain": [
       "0.8605"
      ]
     },
     "execution_count": 20,
     "metadata": {},
     "output_type": "execute_result"
    }
   ],
   "source": [
    "from sklearn.metrics import confusion_matrix, accuracy_score\n",
    "cm = confusion_matrix(y_test, y_pred)\n",
    "print(cm)\n",
    "accuracy_score(y_test, y_pred)"
   ]
  }
 ],
 "metadata": {
  "colab": {
   "authorship_tag": "ABX9TyMeRFWFoGrdaL5S3dx5MWmb",
   "collapsed_sections": [],
   "name": "artificial_neural_network.ipynb",
   "provenance": [],
   "toc_visible": true
  },
  "kernelspec": {
   "display_name": "Python 3",
   "language": "python",
   "name": "python3"
  },
  "language_info": {
   "codemirror_mode": {
    "name": "ipython",
    "version": 3
   },
   "file_extension": ".py",
   "mimetype": "text/x-python",
   "name": "python",
   "nbconvert_exporter": "python",
   "pygments_lexer": "ipython3",
   "version": "3.8.5"
  }
 },
 "nbformat": 4,
 "nbformat_minor": 1
}
